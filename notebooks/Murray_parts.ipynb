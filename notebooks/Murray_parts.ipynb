{
 "cells": [
  {
   "cell_type": "code",
   "execution_count": 1,
   "id": "c9982173",
   "metadata": {},
   "outputs": [],
   "source": [
    "import excel2sbol\n",
    "import os"
   ]
  },
  {
   "cell_type": "code",
   "execution_count": 2,
   "id": "b0d770e2",
   "metadata": {},
   "outputs": [],
   "source": [
    "test_file_path ='.'\n",
    "excel_path = os.path.join(test_file_path, 'Excel2SBOL_Murray_Parts.xlsm')\n",
    "\n",
    "#homespace = 'https://synbiohub.org/gonza10v'\n",
    "\n",
    "fj_overwrite = False\n",
    "sbh_overwrite=False"
   ]
  },
  {
   "cell_type": "code",
   "execution_count": 3,
   "id": "0a0a28cc",
   "metadata": {},
   "outputs": [
    {
     "name": "stderr",
     "output_type": "stream",
     "text": [
      "/Users/gonzalovidal/opt/anaconda3/envs/GLLDB/lib/python3.9/site-packages/openpyxl/worksheet/_reader.py:312: UserWarning: Data Validation extension is not supported and will be removed\n",
      "  warn(msg)\n"
     ]
    },
    {
     "name": "stdout",
     "output_type": "stream",
     "text": [
      "Processing the welcome page...\n",
      "Welcome Page Metadata:\n",
      "Author: Hatem\n",
      "Email: \n",
      "Lab: \n",
      "Institution: \n",
      "Library Name: \n",
      "Description: \n",
      "PubId: \n",
      "Date: \n",
      "Final: False\n",
      "Domain: \n",
      "Master Collection: \n",
      "Conversion will happen with sbol version 2 as specified in the excel sheet\n",
      "promoter\n",
      "rbs\n",
      "cds\n",
      "terminator\n",
      "protein\n",
      "small_molecule\n"
     ]
    }
   ],
   "source": [
    "excel2sbol.converter(file_path_in = excel_path, \n",
    "                file_path_out = './murray_parts_sbol.xml',) #homespace=homespace)"
   ]
  },
  {
   "cell_type": "code",
   "execution_count": null,
   "id": "98eb33d9",
   "metadata": {},
   "outputs": [],
   "source": []
  }
 ],
 "metadata": {
  "kernelspec": {
   "display_name": "GLLDB",
   "language": "python",
   "name": "python3"
  },
  "language_info": {
   "codemirror_mode": {
    "name": "ipython",
    "version": 3
   },
   "file_extension": ".py",
   "mimetype": "text/x-python",
   "name": "python",
   "nbconvert_exporter": "python",
   "pygments_lexer": "ipython3",
   "version": "3.9.19"
  }
 },
 "nbformat": 4,
 "nbformat_minor": 5
}
